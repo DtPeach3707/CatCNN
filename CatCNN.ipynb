{
  "nbformat": 4,
  "nbformat_minor": 0,
  "metadata": {
    "colab": {
      "name": "CatCNN.ipynb",
      "provenance": []
    },
    "kernelspec": {
      "name": "python3",
      "display_name": "Python 3"
    },
    "language_info": {
      "name": "python"
    }
  },
  "cells": [
    {
      "cell_type": "markdown",
      "metadata": {
        "id": "FeAGSv3wjwKY"
      },
      "source": [
        "Directory Generation"
      ]
    },
    {
      "cell_type": "code",
      "metadata": {
        "id": "gJmUWWfJivC6"
      },
      "source": [
        "!gdown https://drive.google.com/uc?id=15JsVCUxYsSGFRwGhqre0zLpSIg3-jLvO #Downloading zip file from google drive\n",
        "zip_path = '/content/Cat_Classifier_Images_70-30-20200828T022923Z-001.zip' #Getting the path \n",
        "!unzip -q Cat_Classifier_Images_70-30-20200829T163124Z-001.zip #Unzipping the folder\n",
        "!rm Cat_Classifier_Images_70-30-20200829T163124Z-001.zip #Removing the zip folder\n",
        "import os #Imported required libraries for this step\n",
        "import pdb\n",
        "import cv2\n",
        "import operator\n",
        "from PIL import Image\n",
        "os.mkdir(\"Training-70-30\") #making the new Training and testing folders\n",
        "os.mkdir(\"Testing-70-30\")\n",
        "dirs = [\"Domino\", \"Stormy\"] #Making the names for the subdirec\n",
        "pardirs = [\"/content/Training-70-30\", \"/content/Testing-70-30\"]\n",
        "for pardir in pardirs:\n",
        "  for dir in dirs:\n",
        "    path = os.path.join(pardir, dir)\n",
        "    os.mkdir(path)\n",
        "datadir1 = \"/content/Cat_Classifier_Images_70-30 /Train/Domino\"\n",
        "datadir2 = \"/content/Cat_Classifier_Images_70-30 /Train/Stormy\"\n",
        "datadir3 = \"/content/Cat_Classifier_Images_70-30 /Test/Domino\"\n",
        "datadir4 = \"/content/Cat_Classifier_Images_70-30 /Test/Stormy\"\n",
        "filelist1 = sorted(os.listdir(datadir1), key = lambda fname: int(fname.split(\"_\")[0][-4:]))\n",
        "filelist2 = sorted(os.listdir(datadir2), key = lambda fname: int(fname.split(\"_\")[0][-4:]))\n",
        "filelist3 = sorted(os.listdir(datadir3), key = lambda fname: int(fname.split(\"_\")[0][-4:]))\n",
        "filelist4 = sorted(os.listdir(datadir4), key = lambda fname: int(fname.split(\"_\")[0][-4:]))\n",
        "datadirs1 = [filelist1, filelist2, filelist3, filelist4]\n",
        "inc = 0\n",
        "for filelist in datadirs1:\n",
        "  i = 0\n",
        "  for fil in filelist:\n",
        "    if inc == 0:\n",
        "      path = \"/content/Cat_Classifier_Images_70-30 /Train/Domino/\" + fil\n",
        "      i += 1\n",
        "      img = cv2.imread(path)\n",
        "      imgResized = cv2.resize(img, (96, 128))\n",
        "      cv2.imwrite('/content/Training-70-30/Domino/DominoTR%02i.jpg' %i, imgResized)\n",
        "    elif inc == 1:\n",
        "      path = \"/content/Cat_Classifier_Images_70-30 /Train/Stormy/\" + fil\n",
        "      i += 1\n",
        "      img = cv2.imread(path)\n",
        "      imgResized = cv2.resize(img, (96, 128))\n",
        "      cv2.imwrite('/content/Training-70-30/Stormy/StormyTR%02i.jpg' %i, imgResized)\n",
        "    elif inc == 2:\n",
        "      path = \"/content/Cat_Classifier_Images_70-30 /Test/Domino/\" + fil\n",
        "      i += 1\n",
        "      img = cv2.imread(path)\n",
        "      imgResized = cv2.resize(img, (96, 128))\n",
        "      cv2.imwrite('/content/Testing-70-30/Domino/DominoTS%02i.jpg' %i, imgResized)\n",
        "    else:\n",
        "      path = \"/content/Cat_Classifier_Images_70-30 /Test/Stormy/\" + fil\n",
        "      i += 1\n",
        "      img = cv2.imread(path)\n",
        "      imgResized = cv2.resize(img, (96, 128))\n",
        "      cv2.imwrite('/content/Testing-70-30/Stormy/StormyTS%02i.jpg' %i, imgResized)\n",
        "  inc += 1"
      ],
      "execution_count": null,
      "outputs": []
    },
    {
      "cell_type": "markdown",
      "metadata": {
        "id": "UA8pvHrSi88P"
      },
      "source": [
        "Making, training, and validating my classifier"
      ]
    },
    {
      "cell_type": "code",
      "metadata": {
        "id": "HtfiAqt7i2pb"
      },
      "source": [
        "import numpy as np #Importing needed libraries\n",
        "from tensorflow import random\n",
        "from keras.models import Sequential\n",
        "from keras.layers import Dense, Activation, Dropout, Conv2D, MaxPool2D, Flatten\n",
        "from keras.preprocessing import image\n",
        "from keras.regularizers import l1, l2, l1_l2\n",
        "from keras.preprocessing.image import ImageDataGenerator\n",
        "import matplotlib.pyplot as plt\n",
        "seed = 1\n",
        "np.random.seed(seed)\n",
        "random.set_seed(seed)\n",
        "classifier = Sequential() \n",
        "classifier.add(Conv2D(64, (3, 3), input_shape = (64, 48, 3), activation = 'relu')) \n",
        "classifier.add(Conv2D(32, (3, 3), input_shape = (64, 48, 3), activation = 'relu'))\n",
        "classifier.add(MaxPool2D(2, 2)) #2 MaxPools for lessening the amount of trained parameters in the network\n",
        "classifier.add(Conv2D(32, (3, 3), input_shape = (64, 48, 3), activation = 'relu'))\n",
        "classifier.add(MaxPool2D(2, 2))\n",
        "classifier.add(Flatten())\n",
        "classifier.add(Dense(128, activation = 'relu'))\n",
        "classifier.add(Dropout(rate = 0.1)) \n",
        "classifier.add(Dense(64, activation = 'relu'))\n",
        "classifier.add(Dense(64, activation = 'relu'))\n",
        "classifier.add(Dense(64, activation = 'relu'))\n",
        "classifier.add(Dense(64, activation = 'relu'))\n",
        "classifier.add(Dense(64, activation = 'relu'))\n",
        "classifier.add(Dense(64, activation = 'relu'))\n",
        "classifier.add(Dense(1, activation = 'sigmoid'))\n",
        "classifier.compile(optimizer = 'sgd', loss = 'binary_crossentropy', metrics = ['accuracy'])\n",
        "epochs = 2000\n",
        "train_datagen = ImageDataGenerator(rescale = 1./255.0, shear_range = 0.3, zoom_range = 0.1, horizontal_flip = True, vertical_flip = True, width_shift_range = 0.2, height_shift_range = 0.2) #Set up image directories\n",
        "test_datagen = ImageDataGenerator(rescale = 1./255.0, shear_range = 0.3, zoom_range = 0.1, horizontal_flip = True, vertical_flip = True, width_shift_range = 0.2, height_shift_range = 0.2)\n",
        "train_set = train_datagen.flow_from_directory('/content/Training-70-30', target_size = (64, 48), batch_size = 10, class_mode = 'binary', seed = seed) #Load in images\n",
        "test_set = test_datagen.flow_from_directory('/content/Testing-70-30', target_size = (64, 48), batch_size = 5, class_mode = 'binary', seed = seed)\n",
        "history = classifier.fit(train_set, steps_per_epoch = 14, epochs = epochs, validation_data = test_set, validation_steps = 12, shuffle = True, verbose = False)\n",
        "epochs1 = [i for i in range(epochs)]\n",
        "plt.scatter(epochs1, history.history['val_accuracy'])\n",
        "plt.ylabel(\"Validation Accuracy\")\n",
        "plt.xlabel(\"Epochs\")\n",
        "plt.show()\n",
        "plt.scatter(epochs1, history.history[\"accuracy\"])\n",
        "plt.xlabel(\"Epochs\")\n",
        "plt.ylabel(\"Training Accuracy\")\n",
        "plt.show()"
      ],
      "execution_count": null,
      "outputs": []
    },
    {
      "cell_type": "markdown",
      "metadata": {
        "id": "jF2uEdEKk-C5"
      },
      "source": [
        "Testing the classifier"
      ]
    },
    {
      "cell_type": "code",
      "metadata": {
        "id": "-454vSWvjrZk"
      },
      "source": [
        "from keras.preprocessing import image\n",
        "import cv2\n",
        "exp_img = cv2.imread('/content/Testing-70-30/Stormy/StormyTS06.jpg')\n",
        "exp2_img = cv2.resize(exp_img, (64, 48))\n",
        "exp2_img = image.img_to_array(exp2_img)\n",
        "exp2_img = np.expand_dims(exp2_img, axis = 0)\n",
        "result = classifier.predict(exp2_img)\n",
        "if result[0][0] == 1:\n",
        "  print ('This image is Domino')\n",
        "else:\n",
        "  print (\"This image is Stormy\")"
      ],
      "execution_count": null,
      "outputs": []
    }
  ]
}